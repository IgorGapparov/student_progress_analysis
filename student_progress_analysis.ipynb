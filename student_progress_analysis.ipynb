{
 "cells": [
  {
   "cell_type": "code",
   "execution_count": 20,
   "id": "a31dd440",
   "metadata": {},
   "outputs": [
    {
     "name": "stdout",
     "output_type": "stream",
     "text": [
      "user_id\n",
      "115        668090043\n",
      "124           571323\n",
      "2746          835457\n",
      "5382      2101551456\n",
      "8623       862338736\n",
      "8701         1571291\n",
      "12741     4465486358\n",
      "13134    15092493419\n",
      "Name: timestamp, dtype: int64\n",
      "2899117260.375\n",
      "user_id\n",
      "115       46\n",
      "124       30\n",
      "2746      20\n",
      "5382     128\n",
      "8623     112\n",
      "8701      17\n",
      "12741    271\n",
      "13134    376\n",
      "Name: user_answer, dtype: int64\n"
     ]
    }
   ],
   "source": [
    "import pandas as pd\n",
    "data = pd.read_csv('C:/Users/Igor/Documents/phystech/Pandas_work/train.csv', nrows=1000)\n",
    "\n",
    "# рассчитаем общее время, затраченное каждым пользователем на обучение на платформе, запишем в series типа \"пользователь: время\"\n",
    "# время в timestamp учитывается накопительным итогом, поэтому берем самое большое (или последнее) значение по кажд. пользователю\n",
    "time_of_studying = data.groupby('user_id').max()['timestamp']\n",
    "print(time_of_studying)\n",
    "\n",
    "# также рассчитаем среднее время, затраченное одним пользователем на обучение на платформе\n",
    "average_time_of_studying = time_of_studying.mean()\n",
    "print(average_time_of_studying)\n",
    "\n",
    "# рассчитаем количество тестов, решенных каждым пользователем\n",
    "quantity_of_teast_for_every_user = data.groupby('user_id').count()['user_answer']\n",
    "print(quantity_of_teast_for_every_user)\n",
    "\n",
    "# далее:\n",
    "# 1. можно разбить пользователей на группы: кто обучался дольше среднего и меньше, анализировать успеваемость на этой основе\n",
    "# 2. попробовать найти зависимость между временем обучения и количеством решенных заданий\n",
    "# 3. начать анализировать правильные ответы, их зависимость от времени обучения и т. п.\n"
   ]
  },
  {
   "cell_type": "code",
   "execution_count": 21,
   "id": "da97defd",
   "metadata": {
    "scrolled": true
   },
   "outputs": [
    {
     "name": "stdout",
     "output_type": "stream",
     "text": [
      "   lecture_id  tag  part           type_of\n",
      "0          89  159     5           concept\n",
      "1         100   70     1           concept\n",
      "2         185   45     6           concept\n",
      "3         192   79     5  solving question\n",
      "4         317  156     5  solving question\n"
     ]
    }
   ],
   "source": [
    "import pandas as pd\n",
    "data = pd.read_csv('C:/Users/Igor/Documents/phystech/Pandas_work/lectures.csv')\n",
    "print(data.head())"
   ]
  },
  {
   "cell_type": "code",
   "execution_count": 5,
   "id": "b5cd0aa3",
   "metadata": {},
   "outputs": [
    {
     "name": "stdout",
     "output_type": "stream",
     "text": [
      "   question_id  bundle_id  correct_answer  part            tags\n",
      "0            0          0               0     1   51 131 162 38\n",
      "1            1          1               1     1       131 36 81\n",
      "2            2          2               0     1  131 101 162 92\n",
      "3            3          3               0     1  131 149 162 29\n",
      "4            4          4               3     1    131 5 162 38\n"
     ]
    }
   ],
   "source": [
    "import pandas as pd\n",
    "data = pd.read_csv('C:/Users/Igor/Documents/phystech/Pandas_work/questions.csv')\n",
    "print(data.head())"
   ]
  },
  {
   "cell_type": "code",
   "execution_count": null,
   "id": "1580e5c2",
   "metadata": {},
   "outputs": [],
   "source": []
  },
  {
   "cell_type": "code",
   "execution_count": null,
   "id": "31bb0f03",
   "metadata": {},
   "outputs": [],
   "source": []
  },
  {
   "cell_type": "code",
   "execution_count": null,
   "id": "8d35b95e",
   "metadata": {},
   "outputs": [],
   "source": []
  }
 ],
 "metadata": {
  "kernelspec": {
   "display_name": "Python 3 (ipykernel)",
   "language": "python",
   "name": "python3"
  },
  "language_info": {
   "codemirror_mode": {
    "name": "ipython",
    "version": 3
   },
   "file_extension": ".py",
   "mimetype": "text/x-python",
   "name": "python",
   "nbconvert_exporter": "python",
   "pygments_lexer": "ipython3",
   "version": "3.9.12"
  }
 },
 "nbformat": 4,
 "nbformat_minor": 5
}
